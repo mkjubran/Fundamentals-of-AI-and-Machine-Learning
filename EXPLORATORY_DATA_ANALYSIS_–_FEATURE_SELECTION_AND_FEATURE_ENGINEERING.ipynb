{
  "nbformat": 4,
  "nbformat_minor": 0,
  "metadata": {
    "colab": {
      "provenance": [],
      "collapsed_sections": [],
      "private_outputs": true,
      "toc_visible": true,
      "authorship_tag": "ABX9TyM8/p9Hwno76TmaCaesQQpY",
      "include_colab_link": true
    },
    "kernelspec": {
      "name": "python3",
      "display_name": "Python 3"
    },
    "language_info": {
      "name": "python"
    }
  },
  "cells": [
    {
      "cell_type": "markdown",
      "metadata": {
        "id": "view-in-github",
        "colab_type": "text"
      },
      "source": [
        "<a href=\"https://colab.research.google.com/github/mkjubran/Fundamentals-of-AI-and-Machine-Learning/blob/main/EXPLORATORY_DATA_ANALYSIS_%E2%80%93_FEATURE_SELECTION_AND_FEATURE_ENGINEERING.ipynb\" target=\"_parent\"><img src=\"https://colab.research.google.com/assets/colab-badge.svg\" alt=\"Open In Colab\"/></a>"
      ]
    },
    {
      "cell_type": "markdown",
      "source": [
        "## EXPLORATORY DATA ANALYSIS – FEATURE SELECTION AND FEATURE ENGINEERING"
      ],
      "metadata": {
        "id": "mkRHIvM06yZJ"
      }
    },
    {
      "cell_type": "markdown",
      "source": [
        "In this notebook, we will demonstrate Feature Selection and Feature Engineering as part of Exploratory Data Analysis (EDA). We will work on a modified version of the cardiovascular dataset from Kaggle (https://www.kaggle.com/code/sulianova/eda-cardiovascular-data/data). The dataset has been cleaned as presented in another notebook (https://github.com/mkjubran/Fundamentals-of-AI-and-Machine-Learning/blob/main/EXPLORATORY_DATA_ANALYSIS_%E2%80%93_DATA_CLEANING.ipynb). \n",
        "\n"
      ],
      "metadata": {
        "id": "pk26CGoOne-d"
      }
    },
    {
      "cell_type": "markdown",
      "source": [
        "# Import Libraries"
      ],
      "metadata": {
        "id": "PvkgpK7foGty"
      }
    },
    {
      "cell_type": "markdown",
      "source": [
        "First, we need to import some libraries that will be used during data cleaning."
      ],
      "metadata": {
        "id": "6gP9SPZVoJdO"
      }
    },
    {
      "cell_type": "code",
      "source": [
        "import numpy as np\n",
        "import pandas as pd\n",
        "from matplotlib import rcParams"
      ],
      "metadata": {
        "id": "YHGa-ZbnoMH8"
      },
      "execution_count": null,
      "outputs": []
    },
    {
      "cell_type": "markdown",
      "source": [
        "# Data Preparation"
      ],
      "metadata": {
        "id": "l4NtTL8ooPPS"
      }
    },
    {
      "cell_type": "markdown",
      "source": [
        "**Clone the dataset Repository**\n",
        "\n",
        "The modified dataset can be cloned from the GitHub repository https://github.com/mkjubran/AIData.git as below"
      ],
      "metadata": {
        "id": "rCTLh1CboS1_"
      }
    },
    {
      "cell_type": "code",
      "source": [
        "!rm -rf ./AIData\n",
        "!git clone https://github.com/mkjubran/AIData.git"
      ],
      "metadata": {
        "id": "YfpV20EFoSYK"
      },
      "execution_count": null,
      "outputs": []
    },
    {
      "cell_type": "markdown",
      "source": [
        "**Read the dataset**\n",
        "\n",
        "The data is stored in the cardio_train_cleaned.csv file. Read the input data into a dataframe using the Pandas library (https://pandas.pydata.org/) to read the data."
      ],
      "metadata": {
        "id": "CstL02BuoeDU"
      }
    },
    {
      "cell_type": "code",
      "source": [
        "df = pd.read_csv(\"/content/AIData/cardio_train_cleaned.csv\",sep=\";\")\n",
        "df.head()"
      ],
      "metadata": {
        "id": "TvSJ7sy1oiym"
      },
      "execution_count": null,
      "outputs": []
    },
    {
      "cell_type": "markdown",
      "source": [
        "**Display Data Info and Check NAN**\n",
        "\n",
        "To display the content of the data and type of features use the info() method"
      ],
      "metadata": {
        "id": "ogikRhbOp-vu"
      }
    },
    {
      "cell_type": "code",
      "source": [
        "df.info()"
      ],
      "metadata": {
        "id": "d1_1vef1qFNG"
      },
      "execution_count": null,
      "outputs": []
    },
    {
      "cell_type": "markdown",
      "source": [
        "Here the dataframe consists of 69917 rows with 12 variables (features). Ten features are numerical and two features are objects (gender, smoke). We notice that the number of non-null values of all features is equal to 69917 which means that none of the features has missing values. We can also use the isnull() method to check for any missing data."
      ],
      "metadata": {
        "id": "FshXANQOqNBj"
      }
    },
    {
      "cell_type": "code",
      "source": [
        "df.isnull().sum()"
      ],
      "metadata": {
        "id": "oeNs1tB5qQH3"
      },
      "execution_count": null,
      "outputs": []
    },
    {
      "cell_type": "markdown",
      "source": [
        "As expected there are no NaN values as the data has been cleaned."
      ],
      "metadata": {
        "id": "OiWO5UnUqYRf"
      }
    },
    {
      "cell_type": "markdown",
      "source": [
        "# Feature Selection and Feature Engineering"
      ],
      "metadata": {
        "id": "f6TfciaEq1IW"
      }
    },
    {
      "cell_type": "markdown",
      "source": [
        "After we identified the type of each feature, let us have a close look at the statistical properties of the numaric features"
      ],
      "metadata": {
        "id": "9fPIPI2Wqz0G"
      }
    },
    {
      "cell_type": "code",
      "source": [
        "df.describe()"
      ],
      "metadata": {
        "id": "DPxkkC9jrzen"
      },
      "execution_count": null,
      "outputs": []
    },
    {
      "cell_type": "markdown",
      "source": [
        "Age is measured in days, height is in centimeters, and weight is in kgs. Let us convert the Age into days so that it is easier to understand."
      ],
      "metadata": {
        "id": "gIuhWHKKwIYn"
      }
    },
    {
      "cell_type": "code",
      "source": [
        "df['age_years'] = (df['age'] / 365).round().astype('int')\n",
        "df.drop('age', axis=1, inplace=True)\n",
        "df.head()"
      ],
      "metadata": {
        "id": "VrS69HhpxnBC"
      },
      "execution_count": null,
      "outputs": []
    },
    {
      "cell_type": "markdown",
      "source": [
        "The target feature \"cardio\" equals 1, when a patient has cardiovascular disease, and it's 0 if a patient is healthy. Let's look ate the numerical variables and how are they spread among this target feature."
      ],
      "metadata": {
        "id": "D2I8mAyaw4w2"
      }
    },
    {
      "cell_type": "code",
      "source": [
        "rcParams['figure.figsize'] = 11, 8\n",
        "pd.crosstab(df.age_years,df.cardio).plot(kind='bar', ylabel='count', xlabel='years')"
      ],
      "metadata": {
        "id": "KACR7zr-y7wp"
      },
      "execution_count": null,
      "outputs": []
    }
  ]
}